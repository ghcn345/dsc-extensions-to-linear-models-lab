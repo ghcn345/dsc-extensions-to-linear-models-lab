{
 "cells": [
  {
   "cell_type": "markdown",
   "metadata": {},
   "source": [
    "# Extensions to Linear Models - Lab"
   ]
  },
  {
   "cell_type": "markdown",
   "metadata": {},
   "source": [
    "## Introduction\n",
    "\n",
    "In this lab, you'll practice many concepts you have learned so far, from adding interactions and polynomials to your model to AIC and BIC!"
   ]
  },
  {
   "cell_type": "markdown",
   "metadata": {},
   "source": [
    "## Summary\n",
    "\n",
    "You will be able to:\n",
    "- Build a linear regression model with interactions and polynomial features \n",
    "- Use AIC and BIC to select the best value for the regularization parameter \n"
   ]
  },
  {
   "cell_type": "markdown",
   "metadata": {},
   "source": [
    "## Let's get started!"
   ]
  },
  {
   "cell_type": "markdown",
   "metadata": {},
   "source": [
    "Import all the necessary packages."
   ]
  },
  {
   "cell_type": "code",
   "execution_count": 1,
   "metadata": {},
   "outputs": [],
   "source": [
    "import pandas as pd\n",
    "import numpy as np\n",
    "import matplotlib.pyplot as plt\n",
    "import warnings\n",
    "warnings.filterwarnings('ignore')\n",
    "from itertools import combinations\n",
    "\n",
    "from sklearn.linear_model import LinearRegression\n",
    "from sklearn.model_selection import cross_val_score\n",
    "from sklearn.model_selection import KFold\n",
    "from sklearn.preprocessing import scale\n",
    "from sklearn.preprocessing import PolynomialFeatures"
   ]
  },
  {
   "cell_type": "markdown",
   "metadata": {},
   "source": [
    "Load the data."
   ]
  },
  {
   "cell_type": "code",
   "execution_count": 2,
   "metadata": {},
   "outputs": [],
   "source": [
    "df = pd.read_csv(\"ames.csv\")"
   ]
  },
  {
   "cell_type": "code",
   "execution_count": 3,
   "metadata": {},
   "outputs": [],
   "source": [
    "df = df[['LotArea', 'OverallQual', 'OverallCond', 'TotalBsmtSF',\n",
    "         '1stFlrSF', '2ndFlrSF', 'GrLivArea', 'TotRmsAbvGrd',\n",
    "         'GarageArea', 'Fireplaces', 'SalePrice']]"
   ]
  },
  {
   "cell_type": "markdown",
   "metadata": {},
   "source": [
    "## Look at a baseline housing data model"
   ]
  },
  {
   "cell_type": "markdown",
   "metadata": {},
   "source": [
    "Above, we imported the Ames housing data and grabbed a subset of the data to use in this analysis.\n",
    "\n",
    "Next steps:\n",
    "\n",
    "- Split the data into target (`y`) and predictors (`X`) -- ensure these both are DataFrames \n",
    "- Scale all the predictors using `scale`. Convert these scaled features into a DataFrame \n",
    "- Build at a baseline model using *scaled variables* as predictors. Use 5-fold cross-validation (set `random_state` to 1) and use the $R^2$ score to evaluate the model "
   ]
  },
  {
   "cell_type": "code",
   "execution_count": 4,
   "metadata": {},
   "outputs": [],
   "source": [
    "X = df.drop('SalePrice', axis=1)\n",
    "y = df.SalePrice\n",
    "\n",
    "X_scaled = pd.DataFrame(scale(X), columns=X.columns)\n",
    "all_data = pd.concat([y, X_scaled], axis=1)"
   ]
  },
  {
   "cell_type": "code",
   "execution_count": 5,
   "metadata": {},
   "outputs": [
    {
     "data": {
      "text/plain": [
       "0.7524751004088885"
      ]
     },
     "execution_count": 5,
     "metadata": {},
     "output_type": "execute_result"
    }
   ],
   "source": [
    "regression = LinearRegression()\n",
    "\n",
    "crossvalidation = KFold(n_splits=5, shuffle=True, random_state=1)\n",
    "baseline = np.mean(cross_val_score(regression, X_scaled, y, scoring='r2', cv=crossvalidation))\n",
    "baseline"
   ]
  },
  {
   "cell_type": "markdown",
   "metadata": {},
   "source": [
    "## Include interactions\n",
    "\n",
    "Look at all the possible combinations of variables for interactions by adding interactions one by one to the baseline model. Next, evaluate that model using 5-fold cross-validation and store the $R^2$ to compare it with the baseline model.\n",
    "\n",
    "Print the 7 most important interactions."
   ]
  },
  {
   "cell_type": "code",
   "execution_count": 6,
   "metadata": {},
   "outputs": [
    {
     "name": "stdout",
     "output_type": "stream",
     "text": [
      "Top 7 interactions: [('OverallQual', 'TotRmsAbvGrd', 0.77), ('OverallQual', 'GarageArea', 0.764), ('OverallQual', '2ndFlrSF', 0.758), ('2ndFlrSF', 'GrLivArea', 0.756), ('2ndFlrSF', 'TotRmsAbvGrd', 0.756), ('OverallQual', 'Fireplaces', 0.754), ('OverallCond', 'TotalBsmtSF', 0.754)]\n"
     ]
    }
   ],
   "source": [
    "combination = list(combinations(X.columns, 2))\n",
    "interactions = []\n",
    "data = X_scaled.copy()\n",
    "for c1, c2 in combination:\n",
    "    data['interaction'] = data[c1]*data[c2]\n",
    "    score = np.mean(cross_val_score(regression, data, y, scoring='r2', cv=crossvalidation))\n",
    "    if score > baseline: interactions.append((c1, c2, round(score, 3)))\n",
    "            \n",
    "print('Top 7 interactions: %s' %sorted(interactions, key=lambda x: -x[2])[:7])"
   ]
  },
  {
   "cell_type": "markdown",
   "metadata": {},
   "source": [
    "Write code to include the 7 most important interactions in your data set by adding 7 columns. Name the columns \"var1_var2\", where var1 and var2 are the two variables in the interaction."
   ]
  },
  {
   "cell_type": "code",
   "execution_count": 7,
   "metadata": {},
   "outputs": [],
   "source": [
    "df_inter = X_scaled.copy()\n",
    "ls_interactions = sorted(interactions, key=lambda x: -x[2])[:7]\n",
    "for inter in ls_interactions:\n",
    "    df_inter[inter[0]+'_'+inter[1]] = X[inter[0]]*X[inter[1]]"
   ]
  },
  {
   "cell_type": "markdown",
   "metadata": {},
   "source": [
    "## Include polynomials"
   ]
  },
  {
   "cell_type": "markdown",
   "metadata": {},
   "source": [
    "Try polynomials of degrees 2, 3, and 4 for each variable, in a similar way you did for interactions (by looking at your baseline model and seeing how $R^2$ increases). Do understand that when going for a polynomial of 4, the particular column is raised to the power of 2 and 3 as well in other terms. We only want to include \"pure\" polynomials, so make sure no interactions are included. We want the result to return a list that contain tuples of the form:\n",
    "\n",
    "`(var_name, degree, R2)`, so eg. `('OverallQual', 2, 0.781)` "
   ]
  },
  {
   "cell_type": "code",
   "execution_count": 8,
   "metadata": {},
   "outputs": [
    {
     "name": "stdout",
     "output_type": "stream",
     "text": [
      "Top 10 polynomials: [('GrLivArea', 4, 0.807), ('GrLivArea', 3, 0.788), ('OverallQual', 2, 0.781), ('OverallQual', 3, 0.779), ('OverallQual', 4, 0.779), ('2ndFlrSF', 3, 0.775), ('2ndFlrSF', 2, 0.771), ('2ndFlrSF', 4, 0.771), ('GarageArea', 4, 0.767), ('GarageArea', 3, 0.758)]\n"
     ]
    }
   ],
   "source": [
    "polynomials = []\n",
    "for col in X.columns:\n",
    "    for degree in [2, 3, 4]:\n",
    "        data = X_scaled.copy()\n",
    "        poly = PolynomialFeatures(degree, include_bias=False)\n",
    "        X_transformed = poly.fit_transform(X[[col]])\n",
    "        data = pd.concat([data.drop(col, axis=1),pd.DataFrame(X_transformed)], axis=1)\n",
    "        score = np.mean(cross_val_score(regression, data, y, scoring='r2', cv=crossvalidation))\n",
    "        if score > baseline: polynomials.append((col, degree, round(score, 3)))\n",
    "            \n",
    "print('Top 10 polynomials: %s' %sorted(polynomials, key=lambda x: -x[2])[:10])"
   ]
  },
  {
   "cell_type": "markdown",
   "metadata": {},
   "source": [
    "For each variable, print out the maximum $R^2$ possible when including Polynomials."
   ]
  },
  {
   "cell_type": "code",
   "execution_count": 9,
   "metadata": {},
   "outputs": [
    {
     "data": {
      "text/plain": [
       "0\n",
       "2ndFlrSF        0.775\n",
       "GarageArea      0.767\n",
       "GrLivArea       0.807\n",
       "OverallCond     0.753\n",
       "OverallQual     0.781\n",
       "TotRmsAbvGrd    0.753\n",
       "Name: 2, dtype: float64"
      ]
     },
     "execution_count": 9,
     "metadata": {},
     "output_type": "execute_result"
    }
   ],
   "source": [
    "polynom = pd.DataFrame(polynomials)\n",
    "polynom.groupby(0)[2].max()"
   ]
  },
  {
   "cell_type": "markdown",
   "metadata": {},
   "source": [
    "Which two variables seem to benefit most from adding polynomial terms?"
   ]
  },
  {
   "cell_type": "markdown",
   "metadata": {},
   "source": [
    "Add Polynomials for the two features that seem to benefit the most, as in have the best $R^2$ compared to the baseline model. For each of the two features, raise to the Polynomial that generates the best result. Make sure to start from the data set `df_inter` so the final data set has both interactions and polynomials in the model."
   ]
  },
  {
   "cell_type": "code",
   "execution_count": 10,
   "metadata": {},
   "outputs": [],
   "source": [
    "for col in ['OverallQual', 'GrLivArea']:\n",
    "    poly = PolynomialFeatures(4, include_bias=False)\n",
    "    X_transformed = poly.fit_transform(X[[col]])\n",
    "    colnames= [col, col+'_2', col+'_3', col+'_4']\n",
    "    df_inter = pd.concat([df_inter.drop(col, axis=1), pd.DataFrame(X_transformed, columns=colnames)], axis=1)"
   ]
  },
  {
   "cell_type": "markdown",
   "metadata": {},
   "source": [
    "Check out your final data set and make sure that your interaction terms as well as your polynomial terms are included."
   ]
  },
  {
   "cell_type": "code",
   "execution_count": 11,
   "metadata": {},
   "outputs": [
    {
     "data": {
      "text/html": [
       "<div>\n",
       "<style scoped>\n",
       "    .dataframe tbody tr th:only-of-type {\n",
       "        vertical-align: middle;\n",
       "    }\n",
       "\n",
       "    .dataframe tbody tr th {\n",
       "        vertical-align: top;\n",
       "    }\n",
       "\n",
       "    .dataframe thead th {\n",
       "        text-align: right;\n",
       "    }\n",
       "</style>\n",
       "<table border=\"1\" class=\"dataframe\">\n",
       "  <thead>\n",
       "    <tr style=\"text-align: right;\">\n",
       "      <th></th>\n",
       "      <th>LotArea</th>\n",
       "      <th>OverallCond</th>\n",
       "      <th>TotalBsmtSF</th>\n",
       "      <th>1stFlrSF</th>\n",
       "      <th>2ndFlrSF</th>\n",
       "      <th>TotRmsAbvGrd</th>\n",
       "      <th>GarageArea</th>\n",
       "      <th>Fireplaces</th>\n",
       "      <th>OverallQual_TotRmsAbvGrd</th>\n",
       "      <th>OverallQual_GarageArea</th>\n",
       "      <th>...</th>\n",
       "      <th>OverallQual_Fireplaces</th>\n",
       "      <th>OverallCond_TotalBsmtSF</th>\n",
       "      <th>OverallQual</th>\n",
       "      <th>OverallQual_2</th>\n",
       "      <th>OverallQual_3</th>\n",
       "      <th>OverallQual_4</th>\n",
       "      <th>GrLivArea</th>\n",
       "      <th>GrLivArea_2</th>\n",
       "      <th>GrLivArea_3</th>\n",
       "      <th>GrLivArea_4</th>\n",
       "    </tr>\n",
       "  </thead>\n",
       "  <tbody>\n",
       "    <tr>\n",
       "      <th>0</th>\n",
       "      <td>-0.207142</td>\n",
       "      <td>-0.517200</td>\n",
       "      <td>-0.459303</td>\n",
       "      <td>-0.793434</td>\n",
       "      <td>1.161852</td>\n",
       "      <td>0.912210</td>\n",
       "      <td>0.351000</td>\n",
       "      <td>-0.951226</td>\n",
       "      <td>56</td>\n",
       "      <td>3836</td>\n",
       "      <td>...</td>\n",
       "      <td>0</td>\n",
       "      <td>4280</td>\n",
       "      <td>7.0</td>\n",
       "      <td>49.0</td>\n",
       "      <td>343.0</td>\n",
       "      <td>2401.0</td>\n",
       "      <td>1710.0</td>\n",
       "      <td>2924100.0</td>\n",
       "      <td>5.000211e+09</td>\n",
       "      <td>8.550361e+12</td>\n",
       "    </tr>\n",
       "    <tr>\n",
       "      <th>1</th>\n",
       "      <td>-0.091886</td>\n",
       "      <td>2.179628</td>\n",
       "      <td>0.466465</td>\n",
       "      <td>0.257140</td>\n",
       "      <td>-0.795163</td>\n",
       "      <td>-0.318683</td>\n",
       "      <td>-0.060731</td>\n",
       "      <td>0.600495</td>\n",
       "      <td>36</td>\n",
       "      <td>2760</td>\n",
       "      <td>...</td>\n",
       "      <td>6</td>\n",
       "      <td>10096</td>\n",
       "      <td>6.0</td>\n",
       "      <td>36.0</td>\n",
       "      <td>216.0</td>\n",
       "      <td>1296.0</td>\n",
       "      <td>1262.0</td>\n",
       "      <td>1592644.0</td>\n",
       "      <td>2.009917e+09</td>\n",
       "      <td>2.536515e+12</td>\n",
       "    </tr>\n",
       "    <tr>\n",
       "      <th>2</th>\n",
       "      <td>0.073480</td>\n",
       "      <td>-0.517200</td>\n",
       "      <td>-0.313369</td>\n",
       "      <td>-0.627826</td>\n",
       "      <td>1.189351</td>\n",
       "      <td>-0.318683</td>\n",
       "      <td>0.631726</td>\n",
       "      <td>0.600495</td>\n",
       "      <td>42</td>\n",
       "      <td>4256</td>\n",
       "      <td>...</td>\n",
       "      <td>7</td>\n",
       "      <td>4600</td>\n",
       "      <td>7.0</td>\n",
       "      <td>49.0</td>\n",
       "      <td>343.0</td>\n",
       "      <td>2401.0</td>\n",
       "      <td>1786.0</td>\n",
       "      <td>3189796.0</td>\n",
       "      <td>5.696976e+09</td>\n",
       "      <td>1.017480e+13</td>\n",
       "    </tr>\n",
       "    <tr>\n",
       "      <th>3</th>\n",
       "      <td>-0.096897</td>\n",
       "      <td>-0.517200</td>\n",
       "      <td>-0.687324</td>\n",
       "      <td>-0.521734</td>\n",
       "      <td>0.937276</td>\n",
       "      <td>0.296763</td>\n",
       "      <td>0.790804</td>\n",
       "      <td>0.600495</td>\n",
       "      <td>49</td>\n",
       "      <td>4494</td>\n",
       "      <td>...</td>\n",
       "      <td>7</td>\n",
       "      <td>3780</td>\n",
       "      <td>7.0</td>\n",
       "      <td>49.0</td>\n",
       "      <td>343.0</td>\n",
       "      <td>2401.0</td>\n",
       "      <td>1717.0</td>\n",
       "      <td>2948089.0</td>\n",
       "      <td>5.061869e+09</td>\n",
       "      <td>8.691229e+12</td>\n",
       "    </tr>\n",
       "    <tr>\n",
       "      <th>4</th>\n",
       "      <td>0.375148</td>\n",
       "      <td>-0.517200</td>\n",
       "      <td>0.199680</td>\n",
       "      <td>-0.045611</td>\n",
       "      <td>1.617877</td>\n",
       "      <td>1.527656</td>\n",
       "      <td>1.698485</td>\n",
       "      <td>0.600495</td>\n",
       "      <td>72</td>\n",
       "      <td>6688</td>\n",
       "      <td>...</td>\n",
       "      <td>8</td>\n",
       "      <td>5725</td>\n",
       "      <td>8.0</td>\n",
       "      <td>64.0</td>\n",
       "      <td>512.0</td>\n",
       "      <td>4096.0</td>\n",
       "      <td>2198.0</td>\n",
       "      <td>4831204.0</td>\n",
       "      <td>1.061899e+10</td>\n",
       "      <td>2.334053e+13</td>\n",
       "    </tr>\n",
       "  </tbody>\n",
       "</table>\n",
       "<p>5 rows × 23 columns</p>\n",
       "</div>"
      ],
      "text/plain": [
       "    LotArea  OverallCond  TotalBsmtSF  1stFlrSF  2ndFlrSF  TotRmsAbvGrd  \\\n",
       "0 -0.207142    -0.517200    -0.459303 -0.793434  1.161852      0.912210   \n",
       "1 -0.091886     2.179628     0.466465  0.257140 -0.795163     -0.318683   \n",
       "2  0.073480    -0.517200    -0.313369 -0.627826  1.189351     -0.318683   \n",
       "3 -0.096897    -0.517200    -0.687324 -0.521734  0.937276      0.296763   \n",
       "4  0.375148    -0.517200     0.199680 -0.045611  1.617877      1.527656   \n",
       "\n",
       "   GarageArea  Fireplaces  OverallQual_TotRmsAbvGrd  OverallQual_GarageArea  \\\n",
       "0    0.351000   -0.951226                        56                    3836   \n",
       "1   -0.060731    0.600495                        36                    2760   \n",
       "2    0.631726    0.600495                        42                    4256   \n",
       "3    0.790804    0.600495                        49                    4494   \n",
       "4    1.698485    0.600495                        72                    6688   \n",
       "\n",
       "   ...  OverallQual_Fireplaces  OverallCond_TotalBsmtSF  OverallQual  \\\n",
       "0  ...                       0                     4280          7.0   \n",
       "1  ...                       6                    10096          6.0   \n",
       "2  ...                       7                     4600          7.0   \n",
       "3  ...                       7                     3780          7.0   \n",
       "4  ...                       8                     5725          8.0   \n",
       "\n",
       "   OverallQual_2  OverallQual_3  OverallQual_4  GrLivArea  GrLivArea_2  \\\n",
       "0           49.0          343.0         2401.0     1710.0    2924100.0   \n",
       "1           36.0          216.0         1296.0     1262.0    1592644.0   \n",
       "2           49.0          343.0         2401.0     1786.0    3189796.0   \n",
       "3           49.0          343.0         2401.0     1717.0    2948089.0   \n",
       "4           64.0          512.0         4096.0     2198.0    4831204.0   \n",
       "\n",
       "    GrLivArea_3   GrLivArea_4  \n",
       "0  5.000211e+09  8.550361e+12  \n",
       "1  2.009917e+09  2.536515e+12  \n",
       "2  5.696976e+09  1.017480e+13  \n",
       "3  5.061869e+09  8.691229e+12  \n",
       "4  1.061899e+10  2.334053e+13  \n",
       "\n",
       "[5 rows x 23 columns]"
      ]
     },
     "execution_count": 11,
     "metadata": {},
     "output_type": "execute_result"
    }
   ],
   "source": [
    "df_inter.head()"
   ]
  },
  {
   "cell_type": "markdown",
   "metadata": {},
   "source": [
    "## Full model R-squared"
   ]
  },
  {
   "cell_type": "markdown",
   "metadata": {},
   "source": [
    "Check out the $R^2$ of the full model."
   ]
  },
  {
   "cell_type": "code",
   "execution_count": 12,
   "metadata": {},
   "outputs": [
    {
     "data": {
      "text/plain": [
       "0.8245917461916372"
      ]
     },
     "execution_count": 12,
     "metadata": {},
     "output_type": "execute_result"
    }
   ],
   "source": [
    "full_model = np.mean(cross_val_score(regression, df_inter, y, scoring='r2', cv=crossvalidation))\n",
    "full_model"
   ]
  },
  {
   "cell_type": "markdown",
   "metadata": {},
   "source": [
    "## Find the best Lasso regularization parameter"
   ]
  },
  {
   "cell_type": "markdown",
   "metadata": {},
   "source": [
    "You learned that when using Lasso regularization, your coefficients shrink to 0 when using a higher regularization parameter. Now the question is which value we should choose for the regularization parameter. \n",
    "\n",
    "This is where the AIC and BIC come in handy! We'll use both criteria in what follows and perform cross-validation to select an optimal value of the regularization parameter $alpha$ of the Lasso estimator.\n",
    "\n",
    "Read the page here: https://scikit-learn.org/stable/auto_examples/linear_model/plot_lasso_model_selection.html and create a similar plot as the first one listed on the page. "
   ]
  },
  {
   "cell_type": "code",
   "execution_count": 13,
   "metadata": {},
   "outputs": [],
   "source": [
    "from sklearn.linear_model import Lasso, LassoCV, LassoLarsCV, LassoLarsIC"
   ]
  },
  {
   "cell_type": "code",
   "execution_count": 14,
   "metadata": {},
   "outputs": [],
   "source": [
    "def plot_ic_criterion(model, name, color):\n",
    "    alpha_ = model.alpha_\n",
    "    alphas_ = model.alphas_\n",
    "    criterion_ = model.criterion_\n",
    "    plt.plot(-np.log10(alphas_), criterion_, '--', color=color, linewidth=2, label= name)\n",
    "    plt.axvline(-np.log10(alpha_), color=color, linewidth=2, label='alpha for %s ' % name)                \n",
    "    plt.xlabel('-log(alpha)')\n",
    "    plt.ylabel('criterion')"
   ]
  },
  {
   "cell_type": "code",
   "execution_count": 15,
   "metadata": {},
   "outputs": [],
   "source": [
    "model_bic = LassoLarsIC(criterion='bic')\n",
    "model_bic.fit(df_inter, y)\n",
    "alpha_bic_ = model_bic.alpha_\n",
    "\n",
    "model_aic = LassoLarsIC(criterion='aic')\n",
    "model_aic.fit(df_inter, y)\n",
    "alpha_aic_ = model_aic.alpha_"
   ]
  },
  {
   "cell_type": "code",
   "execution_count": 16,
   "metadata": {},
   "outputs": [
    {
     "data": {
      "text/plain": [
       "Text(0.5, 1.0, 'Information-criterion for model selection')"
      ]
     },
     "execution_count": 16,
     "metadata": {},
     "output_type": "execute_result"
    },
    {
     "data": {
      "image/png": "[encoded data removed]",
      "text/plain": [
       "<Figure size 432x288 with 1 Axes>"
      ]
     },
     "metadata": {
      "needs_background": "light"
     },
     "output_type": "display_data"
    }
   ],
   "source": [
    "plt.figure()\n",
    "plot_ic_criterion(model_aic, 'AIC', 'green')\n",
    "plot_ic_criterion(model_bic, 'BIC', 'blue')\n",
    "plt.legend()\n",
    "plt.title('Information-criterion for model selection')"
   ]
  },
  {
   "cell_type": "markdown",
   "metadata": {},
   "source": [
    "## Analyze the final result\n",
    "\n",
    "Finally, use the best value for the regularization parameter according to AIC and BIC, and compare $R^2$ and RMSE using train-test split. Compare with the baseline model.\n",
    "\n",
    "Remember, you can find the Root Mean Squared Error (RMSE) by setting `squared=False` inside the function (see [the documentation](https://scikit-learn.org/stable/modules/generated/sklearn.metrics.mean_squared_error.html)), and the RMSE returns values that are in the same units as our target - so we can see how far off our predicted sale prices are in dollars."
   ]
  },
  {
   "cell_type": "code",
   "execution_count": 17,
   "metadata": {},
   "outputs": [],
   "source": [
    "from sklearn.metrics import mean_squared_error, mean_squared_log_error\n",
    "from sklearn.model_selection import train_test_split"
   ]
  },
  {
   "cell_type": "code",
   "execution_count": 18,
   "metadata": {},
   "outputs": [
    {
     "name": "stdout",
     "output_type": "stream",
     "text": [
      "Training R-Squared: 0.7478270652928448\n",
      "Test R-Squared: 0.8120708166668684\n",
      "Training RMSE: 39424.15590381302\n",
      "Test RMSE: 35519.17035590487\n"
     ]
    }
   ],
   "source": [
    "# Split X_scaled and y into training and test sets\n",
    "# Set random_state to 1\n",
    "X_train, X_test, y_train, y_test = train_test_split(X_scaled, y, random_state=1)\n",
    "\n",
    "# Code for baseline model\n",
    "linreg_all = LinearRegression()\n",
    "linreg_all.fit(X_train, y_train)\n",
    "\n",
    "# Print R-Squared and RMSE\n",
    "print('Training R-Squared:', linreg_all.score(X_train, y_train))\n",
    "print('Test R-Squared:', linreg_all.score(X_test, y_test))\n",
    "print('Training RMSE:', mean_squared_error(y_train, linreg_all.predict(X_train), squared=False))\n",
    "print('Test RMSE:', mean_squared_error(y_test, linreg_all.predict(X_test), squared=False))"
   ]
  },
  {
   "cell_type": "code",
   "execution_count": 19,
   "metadata": {},
   "outputs": [
    {
     "name": "stdout",
     "output_type": "stream",
     "text": [
      "Training R-Squared: 0.8446714993955369\n",
      "Test R-Squared: 0.8657420069305382\n",
      "Training RMSE: 30941.313223491503\n",
      "Test RMSE: 30021.73418447649\n"
     ]
    }
   ],
   "source": [
    "# Split df_inter and y into training and test sets\n",
    "# Set random_state to 1\n",
    "X_train, X_test, y_train, y_test = train_test_split(df_inter, y, random_state=1)\n",
    "\n",
    "# Code for lasso with alpha from AIC\n",
    "lasso = Lasso(alpha=model_aic.alpha_)\n",
    "lasso.fit(X_train, y_train)\n",
    "\n",
    "# Print R-Squared and RMSE\n",
    "print('Training R-Squared:', lasso.score(X_train, y_train))\n",
    "print('Test R-Squared:', lasso.score(X_test, y_test))\n",
    "print('Training RMSE:', mean_squared_error(y_train, lasso.predict(X_train), squared=False))\n",
    "print('Test RMSE:', mean_squared_error(y_test, lasso.predict(X_test), squared=False))"
   ]
  },
  {
   "cell_type": "code",
   "execution_count": 20,
   "metadata": {},
   "outputs": [
    {
     "name": "stdout",
     "output_type": "stream",
     "text": [
      "Training R-Squared: 0.8446487101363189\n",
      "Test R-Squared: 0.8660207515757951\n",
      "Training RMSE: 30943.582941357854\n",
      "Test RMSE: 29990.552630374987\n"
     ]
    }
   ],
   "source": [
    "# Code for lasso with alpha from BIC\n",
    "lasso = Lasso(alpha=model_bic.alpha_) \n",
    "lasso.fit(X_train, y_train)\n",
    "\n",
    "# Print R-Squared and RMSE\n",
    "print('Training R-Squared:', lasso.score(X_train, y_train))\n",
    "print('Test R-Squared:', lasso.score(X_test, y_test))\n",
    "print('Training RMSE:', mean_squared_error(y_train, lasso.predict(X_train), squared=False))\n",
    "print('Test RMSE:', mean_squared_error(y_test, lasso.predict(X_test), squared=False))"
   ]
  },
  {
   "cell_type": "markdown",
   "metadata": {},
   "source": [
    "## Level up (Optional)"
   ]
  },
  {
   "cell_type": "markdown",
   "metadata": {},
   "source": [
    "### Create a Lasso path\n",
    "\n",
    "From this section, you know that when using Lasso, more parameters shrink to zero as your regularization parameter goes up. In Scikit-learn there is a function `lasso_path()` which visualizes the shrinkage of the coefficients while $alpha$ changes. Try this out yourself!\n",
    "\n",
    "https://scikit-learn.org/stable/auto_examples/linear_model/plot_lasso_coordinate_descent_path.html#sphx-glr-auto-examples-linear-model-plot-lasso-coordinate-descent-path-py"
   ]
  },
  {
   "cell_type": "markdown",
   "metadata": {},
   "source": [
    "### AIC and BIC for subset selection\n",
    "This notebook shows how you can use AIC and BIC purely for feature selection. Try this code out on our Ames housing data!"
   ]
  },
  {
   "cell_type": "markdown",
   "metadata": {},
   "source": [
    "https://xavierbourretsicotte.github.io/subset_selection.html"
   ]
  },
  {
   "cell_type": "markdown",
   "metadata": {},
   "source": [
    "## Summary"
   ]
  },
  {
   "cell_type": "markdown",
   "metadata": {},
   "source": [
    "Congratulations! You now know how to create better linear models and how to use AIC and BIC for both feature selection and to optimize your regularization parameter when performing Ridge and Lasso. "
   ]
  }
 ],
 "metadata": {
  "kernelspec": {
   "display_name": "Python 3",
   "language": "python",
   "name": "python3"
  },
  "language_info": {
   "codemirror_mode": {
    "name": "ipython",
    "version": 3
   },
   "file_extension": ".py",
   "mimetype": "text/x-python",
   "name": "python",
   "nbconvert_exporter": "python",
   "pygments_lexer": "ipython3",
   "version": "3.8.3"
  }
 },
 "nbformat": 4,
 "nbformat_minor": 4
}
